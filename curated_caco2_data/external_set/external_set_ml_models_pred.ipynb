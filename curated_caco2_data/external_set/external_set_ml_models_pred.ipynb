{
 "cells": [
  {
   "cell_type": "code",
   "execution_count": 1,
   "id": "53acb431",
   "metadata": {
    "ExecuteTime": {
     "end_time": "2024-07-29T15:28:37.953399Z",
     "start_time": "2024-07-29T15:28:35.422977Z"
    }
   },
   "outputs": [],
   "source": [
    "#!/usr/bin/env python\n",
    "# coding: utf-8\n",
    "\n",
    "# In[1]:\n",
    "\n",
    "\n",
    "import os\n",
    "from datetime import datetime\n",
    "\n",
    "import numpy as np\n",
    "import pandas as pd\n",
    "import random\n",
    "\n",
    "from sklearn.ensemble import RandomForestClassifier, RandomForestRegressor\n",
    "from sklearn.calibration import CalibratedClassifierCV\n",
    "from sklearn.svm import LinearSVC, LinearSVR\n",
    "from sklearn.ensemble import GradientBoostingRegressor, GradientBoostingClassifier\n",
    "\n",
    "from argparse import ArgumentParser\n",
    "\n",
    "# In[2]:\n",
    "\n",
    "\n",
    "import rdkit\n",
    "from rdkit import Chem\n",
    "from rdkit.Chem import AllChem\n",
    "from rdkit.Chem.rdchem import HybridizationType\n",
    "from rdkit.Chem.rdchem import BondType as BT\n",
    "from rdkit import RDLogger                                                                                                                                                               \n",
    "RDLogger.DisableLog('rdApp.*')  \n",
    "\n",
    "### generate fixed representations \n",
    "from rdkit import DataStructs\n",
    "from rdkit.Chem import MACCSkeys\n",
    "from descriptastorus.descriptors import rdDescriptors, rdNormalizedDescriptors\n",
    "from rdkit.Chem import Descriptors\n",
    "from rdkit.Chem import rdMolDescriptors\n",
    "import warnings\n",
    "warnings.filterwarnings('ignore')"
   ]
  },
  {
   "cell_type": "code",
   "execution_count": 2,
   "id": "d3e26168",
   "metadata": {
    "ExecuteTime": {
     "end_time": "2024-07-29T15:28:37.969676Z",
     "start_time": "2024-07-29T15:28:37.956734Z"
    }
   },
   "outputs": [],
   "source": [
    "mol_rep = 'morganBits' "
   ]
  },
  {
   "cell_type": "code",
   "execution_count": 3,
   "id": "69b7b746",
   "metadata": {
    "ExecuteTime": {
     "end_time": "2024-07-29T15:28:37.985111Z",
     "start_time": "2024-07-29T15:28:37.972095Z"
    }
   },
   "outputs": [],
   "source": [
    "### form fixed representations (TODO: save all fixed reps in advance?) \n",
    "MORGAN_RADIUS = 2\n",
    "MORGAN_NUM_BITS = 2048\n",
    "\n",
    "def generate_reps(smiles, mol_rep: str):\n",
    "    \"\"\"Generate fixed molecular representations \n",
    "    Inputs:\n",
    "        smiles: a molecule in SMILES representation \n",
    "        mol_rep: representation name - options include morganBits, morganCounts, maccs, physchem, rdkit2d, atomPairs\n",
    "    \"\"\"\n",
    "    mol = Chem.MolFromSmiles(smiles)\n",
    "\n",
    "    if mol_rep == 'morganBits':\n",
    "        features_vec = AllChem.GetMorganFingerprintAsBitVect(mol, radius=MORGAN_RADIUS, nBits=MORGAN_NUM_BITS)\n",
    "        features = np.zeros((1,))\n",
    "        DataStructs.ConvertToNumpyArray(features_vec, features)\n",
    "    elif mol_rep == 'morganCounts':\n",
    "        features_vec = AllChem.GetHashedMorganFingerprint(mol, radius=MORGAN_RADIUS, nBits=MORGAN_NUM_BITS)\n",
    "        features = np.zeros((1,))\n",
    "        DataStructs.ConvertToNumpyArray(features_vec, features)\n",
    "    elif mol_rep == 'maccs':\n",
    "        features_vec = MACCSkeys.GenMACCSKeys(mol)\n",
    "        features = np.zeros((1,))\n",
    "        DataStructs.ConvertToNumpyArray(features_vec, features)\n",
    "    elif mol_rep == 'physchem':\n",
    "        # calculate physchem descriptors values \n",
    "        # Reference: https://github.com/molML/MoleculeACE/blob/main/MoleculeACE/benchmark/featurization.py\n",
    "        weight = Descriptors.ExactMolWt(mol)\n",
    "        logp = Descriptors.MolLogP(mol)\n",
    "        h_bond_donor = Descriptors.NumHDonors(mol)\n",
    "        h_bond_acceptors = Descriptors.NumHAcceptors(mol)\n",
    "        rotatable_bonds = Descriptors.NumRotatableBonds(mol)\n",
    "        atoms = Chem.rdchem.Mol.GetNumAtoms(mol)\n",
    "        heavy_atoms = Chem.rdchem.Mol.GetNumHeavyAtoms(mol)\n",
    "        molar_refractivity = Chem.Crippen.MolMR(mol)\n",
    "        topological_polar_surface_area = Chem.QED.properties(mol).PSA\n",
    "        formal_charge = Chem.rdmolops.GetFormalCharge(mol)\n",
    "        rings = Chem.rdMolDescriptors.CalcNumRings(mol)\n",
    "        # form features matrix\n",
    "        features = np.array([weight, logp, h_bond_donor, h_bond_acceptors, rotatable_bonds, atoms, heavy_atoms, molar_refractivity, topological_polar_surface_area, formal_charge, rings])\n",
    "    elif mol_rep == 'rdkit2d':\n",
    "        # instantiate a descriptors generator\n",
    "        generator = rdNormalizedDescriptors.RDKit2DNormalized()\n",
    "        features = generator.process(smiles)[1:]\n",
    "        features = [0 if np.isnan(x) else float(x) for x in features]\n",
    "    elif mol_rep == 'atomPairs':\n",
    "        features_vec = rdMolDescriptors.GetHashedAtomPairFingerprint(mol, nBits=2048, use2D=True)\n",
    "        features = np.zeros((1,))\n",
    "        DataStructs.ConvertToNumpyArray(features_vec, features)\n",
    "    else:\n",
    "        raise ValueError('Not defined fingerprint!')\n",
    "\n",
    "    return features"
   ]
  },
  {
   "cell_type": "code",
   "execution_count": 4,
   "id": "47694c77",
   "metadata": {
    "ExecuteTime": {
     "end_time": "2024-07-29T15:28:38.636175Z",
     "start_time": "2024-07-29T15:28:38.602594Z"
    }
   },
   "outputs": [],
   "source": [
    "# ## load data\n",
    "\n",
    "smiles_tasks_df = pd.read_csv('./logPapp_external_set.csv')"
   ]
  },
  {
   "cell_type": "code",
   "execution_count": 5,
   "id": "0e86bcad",
   "metadata": {
    "ExecuteTime": {
     "end_time": "2024-07-29T15:28:39.070748Z",
     "start_time": "2024-07-29T15:28:39.056498Z"
    }
   },
   "outputs": [],
   "source": [
    "fp_colname = [f'Bit{n}' for n in range(MORGAN_NUM_BITS)]"
   ]
  },
  {
   "cell_type": "code",
   "execution_count": 6,
   "id": "4848ae76",
   "metadata": {
    "ExecuteTime": {
     "end_time": "2024-07-29T15:28:39.521041Z",
     "start_time": "2024-07-29T15:28:39.499221Z"
    }
   },
   "outputs": [],
   "source": [
    "des_colname = [f'Des{n}' for n in range(len(rdNormalizedDescriptors.RDKit2DNormalized().columns))]"
   ]
  },
  {
   "cell_type": "code",
   "execution_count": 7,
   "id": "097bec41",
   "metadata": {
    "ExecuteTime": {
     "end_time": "2024-07-29T15:28:40.373381Z",
     "start_time": "2024-07-29T15:28:40.152257Z"
    }
   },
   "outputs": [],
   "source": [
    "fp_df = pd.DataFrame([generate_reps(x, 'morganBits') for x in smiles_tasks_df.smiles], index = smiles_tasks_df.smiles, columns=fp_colname)"
   ]
  },
  {
   "cell_type": "code",
   "execution_count": 8,
   "id": "292590fb",
   "metadata": {
    "ExecuteTime": {
     "end_time": "2024-07-29T15:28:52.328986Z",
     "start_time": "2024-07-29T15:28:40.911157Z"
    }
   },
   "outputs": [],
   "source": [
    "rdkit2d_df = pd.DataFrame([generate_reps(x, 'rdkit2d') for x in smiles_tasks_df.smiles], index = smiles_tasks_df.smiles, columns=des_colname)"
   ]
  },
  {
   "cell_type": "code",
   "execution_count": 9,
   "id": "0d7d04d1",
   "metadata": {
    "ExecuteTime": {
     "end_time": "2024-07-29T15:28:52.344416Z",
     "start_time": "2024-07-29T15:28:52.331523Z"
    }
   },
   "outputs": [],
   "source": [
    "combined_df = pd.concat([fp_df,rdkit2d_df], axis=1)"
   ]
  },
  {
   "cell_type": "code",
   "execution_count": 10,
   "id": "6525d34d",
   "metadata": {
    "ExecuteTime": {
     "end_time": "2024-07-29T15:28:54.099649Z",
     "start_time": "2024-07-29T15:28:52.346416Z"
    }
   },
   "outputs": [],
   "source": [
    "## load model\n",
    "from joblib import load\n",
    "GB_combined = load('./saved_models/GB_combined.joblib') \n",
    "GB_fp = load('./saved_models/GB_fp.joblib') \n",
    "GB_rdkit2d = load('./saved_models/GB_rdkit2d.joblib') \n",
    "\n",
    "RF_combined = load('./saved_models/RF_combined.joblib') \n",
    "RF_fp = load('./saved_models/RF_fp.joblib') \n",
    "RF_rdkit2d = load('./saved_models/RF_rdkit2d.joblib') \n",
    "\n",
    "SVM_combined = load('./saved_models/SVM_combined.joblib') \n",
    "SVM_fp = load('./saved_models/SVM_fp.joblib') \n",
    "SVM_rdkit2d = load('./saved_models/SVM_rdkit2d.joblib') \n",
    "\n",
    "XGB_combined = load('./saved_models/XGB_combined.joblib') \n",
    "XGB_fp = load('./saved_models/XGB_fp.joblib') \n",
    "XGB_rdkit2d = load('./saved_models/XGB_rdkit2d.joblib') "
   ]
  },
  {
   "cell_type": "code",
   "execution_count": 11,
   "id": "d66aa33e",
   "metadata": {
    "ExecuteTime": {
     "end_time": "2024-07-29T15:28:55.708675Z",
     "start_time": "2024-07-29T15:28:54.103044Z"
    }
   },
   "outputs": [],
   "source": [
    "GB_combined_pred = GB_combined.predict(combined_df)\n",
    "RF_combined_pred = RF_combined.predict(combined_df)\n",
    "SVM_combined_pred = SVM_combined.predict(combined_df)\n",
    "XGB_combined_pred = XGB_combined.predict(combined_df)"
   ]
  },
  {
   "cell_type": "code",
   "execution_count": 12,
   "id": "38106582",
   "metadata": {
    "ExecuteTime": {
     "end_time": "2024-07-29T15:28:57.176295Z",
     "start_time": "2024-07-29T15:28:55.710688Z"
    }
   },
   "outputs": [],
   "source": [
    "GB_fp_pred = GB_fp.predict(fp_df)\n",
    "RF_fp_pred = RF_fp.predict(fp_df)\n",
    "SVM_fp_pred = SVM_fp.predict(fp_df)\n",
    "XGB_fp_pred = XGB_fp.predict(fp_df)"
   ]
  },
  {
   "cell_type": "code",
   "execution_count": 13,
   "id": "8ac6cc5f",
   "metadata": {
    "ExecuteTime": {
     "end_time": "2024-07-29T15:28:57.419156Z",
     "start_time": "2024-07-29T15:28:57.177851Z"
    }
   },
   "outputs": [],
   "source": [
    "GB_rdkit2d_pred = GB_rdkit2d.predict(rdkit2d_df)\n",
    "RF_rdkit2d_pred = RF_rdkit2d.predict(rdkit2d_df)\n",
    "SVM_rdkit2d_pred = SVM_rdkit2d.predict(rdkit2d_df)\n",
    "XGB_rdkit2d_pred = XGB_rdkit2d.predict(rdkit2d_df)"
   ]
  },
  {
   "cell_type": "code",
   "execution_count": 14,
   "id": "0d9732f0",
   "metadata": {
    "ExecuteTime": {
     "end_time": "2024-07-29T15:28:57.434880Z",
     "start_time": "2024-07-29T15:28:57.421156Z"
    }
   },
   "outputs": [],
   "source": [
    "result_dict = {'XGB_fp': XGB_fp_pred,\n",
    "'SVM_fp': SVM_fp_pred,\n",
    "'GB_fp': GB_fp_pred,\n",
    "'RF_fp': RF_fp_pred,\n",
    "'XGB_rdkit2d': XGB_rdkit2d_pred,\n",
    "'SVM_rdkit2d': SVM_rdkit2d_pred,\n",
    "'GB_rdkit2d': GB_rdkit2d_pred,\n",
    "'RF_rdkit2d': RF_rdkit2d_pred,\n",
    "'XGB_combined': XGB_combined_pred,\n",
    "'SVM_combined': SVM_combined_pred,\n",
    "'GB_combined': GB_combined_pred,\n",
    "'RF_combined': RF_combined_pred,\n",
    "'ground_truth': smiles_tasks_df['logPapp']\n",
    "              }"
   ]
  },
  {
   "cell_type": "code",
   "execution_count": 15,
   "id": "52b703b0",
   "metadata": {
    "ExecuteTime": {
     "end_time": "2024-07-29T15:28:57.450386Z",
     "start_time": "2024-07-29T15:28:57.436882Z"
    }
   },
   "outputs": [],
   "source": [
    "result = pd.DataFrame(result_dict)"
   ]
  },
  {
   "cell_type": "code",
   "execution_count": 16,
   "id": "ccbb2a2e",
   "metadata": {
    "ExecuteTime": {
     "end_time": "2024-07-29T15:28:57.466389Z",
     "start_time": "2024-07-29T15:28:57.452389Z"
    }
   },
   "outputs": [],
   "source": [
    "combinednet_pred = pd.read_csv('./logPapp_external_set_pred_combinednet.csv')"
   ]
  },
  {
   "cell_type": "code",
   "execution_count": 18,
   "id": "8574c412",
   "metadata": {
    "ExecuteTime": {
     "end_time": "2024-07-29T15:29:10.541250Z",
     "start_time": "2024-07-29T15:29:10.508674Z"
    }
   },
   "outputs": [],
   "source": [
    "dmpnn_pred = pd.read_csv('./logPapp_external_set_pred_dmpnn.csv')"
   ]
  },
  {
   "cell_type": "code",
   "execution_count": 19,
   "id": "b6bde640",
   "metadata": {
    "ExecuteTime": {
     "end_time": "2024-07-29T15:29:16.918828Z",
     "start_time": "2024-07-29T15:29:16.890705Z"
    }
   },
   "outputs": [],
   "source": [
    "lab2_pred = pd.read_csv('./logPapp_external_set_pred_admetlab2.csv')"
   ]
  },
  {
   "cell_type": "code",
   "execution_count": 20,
   "id": "6cabe32c",
   "metadata": {
    "ExecuteTime": {
     "end_time": "2024-07-29T15:29:18.248510Z",
     "start_time": "2024-07-29T15:29:18.171411Z"
    }
   },
   "outputs": [],
   "source": [
    "lab3_pred = pd.read_csv('./logPapp_external_set_pred_admetlab3.csv')"
   ]
  },
  {
   "cell_type": "code",
   "execution_count": 21,
   "id": "672fbad1",
   "metadata": {
    "ExecuteTime": {
     "end_time": "2024-07-29T15:29:19.979056Z",
     "start_time": "2024-07-29T15:29:19.971041Z"
    }
   },
   "outputs": [],
   "source": [
    "result['CombinedNet'] = combinednet_pred['logPapp']\n",
    "result['DMPNN'] = dmpnn_pred['logPapp']\n",
    "result['ADMETlab2'] = lab2_pred['Caco-2']\n",
    "result['ADMETlab3'] = lab3_pred['caco2']"
   ]
  },
  {
   "cell_type": "code",
   "execution_count": 22,
   "id": "2c10d9ac",
   "metadata": {
    "ExecuteTime": {
     "end_time": "2024-07-29T15:29:21.386175Z",
     "start_time": "2024-07-29T15:29:21.349369Z"
    }
   },
   "outputs": [
    {
     "data": {
      "text/html": [
       "<div>\n",
       "<style scoped>\n",
       "    .dataframe tbody tr th:only-of-type {\n",
       "        vertical-align: middle;\n",
       "    }\n",
       "\n",
       "    .dataframe tbody tr th {\n",
       "        vertical-align: top;\n",
       "    }\n",
       "\n",
       "    .dataframe thead th {\n",
       "        text-align: right;\n",
       "    }\n",
       "</style>\n",
       "<table border=\"1\" class=\"dataframe\">\n",
       "  <thead>\n",
       "    <tr style=\"text-align: right;\">\n",
       "      <th></th>\n",
       "      <th>XGB_fp</th>\n",
       "      <th>SVM_fp</th>\n",
       "      <th>GB_fp</th>\n",
       "      <th>RF_fp</th>\n",
       "      <th>XGB_rdkit2d</th>\n",
       "      <th>SVM_rdkit2d</th>\n",
       "      <th>GB_rdkit2d</th>\n",
       "      <th>RF_rdkit2d</th>\n",
       "      <th>XGB_combined</th>\n",
       "      <th>SVM_combined</th>\n",
       "      <th>GB_combined</th>\n",
       "      <th>RF_combined</th>\n",
       "      <th>ground_truth</th>\n",
       "      <th>CombinedNet</th>\n",
       "      <th>DMPNN</th>\n",
       "      <th>ADMETlab2</th>\n",
       "      <th>ADMETlab3</th>\n",
       "    </tr>\n",
       "  </thead>\n",
       "  <tbody>\n",
       "    <tr>\n",
       "      <th>0</th>\n",
       "      <td>-5.643911</td>\n",
       "      <td>-5.961470</td>\n",
       "      <td>-5.483297</td>\n",
       "      <td>-5.538459</td>\n",
       "      <td>-6.046221</td>\n",
       "      <td>-5.898155</td>\n",
       "      <td>-6.283740</td>\n",
       "      <td>-5.811782</td>\n",
       "      <td>-6.051782</td>\n",
       "      <td>-6.142560</td>\n",
       "      <td>-5.732677</td>\n",
       "      <td>-5.881886</td>\n",
       "      <td>-4.452225</td>\n",
       "      <td>-5.658178</td>\n",
       "      <td>-6.070380</td>\n",
       "      <td>-5.484</td>\n",
       "      <td>-5.246999</td>\n",
       "    </tr>\n",
       "    <tr>\n",
       "      <th>1</th>\n",
       "      <td>-4.886450</td>\n",
       "      <td>-5.075859</td>\n",
       "      <td>-4.960182</td>\n",
       "      <td>-5.077284</td>\n",
       "      <td>-5.079074</td>\n",
       "      <td>-5.023228</td>\n",
       "      <td>-4.783831</td>\n",
       "      <td>-5.026886</td>\n",
       "      <td>-5.060615</td>\n",
       "      <td>-4.800673</td>\n",
       "      <td>-5.177343</td>\n",
       "      <td>-4.970772</td>\n",
       "      <td>-4.040959</td>\n",
       "      <td>-4.853692</td>\n",
       "      <td>-4.805622</td>\n",
       "      <td>-5.051</td>\n",
       "      <td>-4.981073</td>\n",
       "    </tr>\n",
       "    <tr>\n",
       "      <th>2</th>\n",
       "      <td>-4.976178</td>\n",
       "      <td>-5.074016</td>\n",
       "      <td>-4.835692</td>\n",
       "      <td>-5.037226</td>\n",
       "      <td>-4.904591</td>\n",
       "      <td>-5.303246</td>\n",
       "      <td>-4.719715</td>\n",
       "      <td>-4.850136</td>\n",
       "      <td>-5.279327</td>\n",
       "      <td>-5.102093</td>\n",
       "      <td>-5.616375</td>\n",
       "      <td>-4.855914</td>\n",
       "      <td>-4.795880</td>\n",
       "      <td>-5.287908</td>\n",
       "      <td>-5.190197</td>\n",
       "      <td>-4.865</td>\n",
       "      <td>-5.153186</td>\n",
       "    </tr>\n",
       "    <tr>\n",
       "      <th>3</th>\n",
       "      <td>-4.751775</td>\n",
       "      <td>-4.777076</td>\n",
       "      <td>-4.647408</td>\n",
       "      <td>-4.848243</td>\n",
       "      <td>-4.554111</td>\n",
       "      <td>-5.084939</td>\n",
       "      <td>-4.462949</td>\n",
       "      <td>-4.496145</td>\n",
       "      <td>-4.583272</td>\n",
       "      <td>-4.689909</td>\n",
       "      <td>-4.637891</td>\n",
       "      <td>-4.499963</td>\n",
       "      <td>-4.403403</td>\n",
       "      <td>-4.624857</td>\n",
       "      <td>-5.191446</td>\n",
       "      <td>-4.759</td>\n",
       "      <td>-4.802940</td>\n",
       "    </tr>\n",
       "    <tr>\n",
       "      <th>4</th>\n",
       "      <td>-6.015895</td>\n",
       "      <td>-5.779423</td>\n",
       "      <td>-6.181006</td>\n",
       "      <td>-5.652338</td>\n",
       "      <td>-5.540268</td>\n",
       "      <td>-5.542982</td>\n",
       "      <td>-5.384678</td>\n",
       "      <td>-5.646651</td>\n",
       "      <td>-5.809102</td>\n",
       "      <td>-6.185668</td>\n",
       "      <td>-5.298511</td>\n",
       "      <td>-5.611605</td>\n",
       "      <td>-6.221849</td>\n",
       "      <td>-6.113716</td>\n",
       "      <td>-5.984838</td>\n",
       "      <td>-5.558</td>\n",
       "      <td>-5.394623</td>\n",
       "    </tr>\n",
       "    <tr>\n",
       "      <th>...</th>\n",
       "      <td>...</td>\n",
       "      <td>...</td>\n",
       "      <td>...</td>\n",
       "      <td>...</td>\n",
       "      <td>...</td>\n",
       "      <td>...</td>\n",
       "      <td>...</td>\n",
       "      <td>...</td>\n",
       "      <td>...</td>\n",
       "      <td>...</td>\n",
       "      <td>...</td>\n",
       "      <td>...</td>\n",
       "      <td>...</td>\n",
       "      <td>...</td>\n",
       "      <td>...</td>\n",
       "      <td>...</td>\n",
       "      <td>...</td>\n",
       "    </tr>\n",
       "    <tr>\n",
       "      <th>266</th>\n",
       "      <td>-6.300303</td>\n",
       "      <td>-6.354416</td>\n",
       "      <td>-6.092220</td>\n",
       "      <td>-5.641723</td>\n",
       "      <td>-5.458561</td>\n",
       "      <td>-5.226032</td>\n",
       "      <td>-5.532097</td>\n",
       "      <td>-5.725168</td>\n",
       "      <td>-5.698493</td>\n",
       "      <td>-6.082107</td>\n",
       "      <td>-5.892829</td>\n",
       "      <td>-5.671041</td>\n",
       "      <td>-5.721849</td>\n",
       "      <td>-6.125656</td>\n",
       "      <td>-6.000243</td>\n",
       "      <td>-5.774</td>\n",
       "      <td>-5.811849</td>\n",
       "    </tr>\n",
       "    <tr>\n",
       "      <th>267</th>\n",
       "      <td>-5.138891</td>\n",
       "      <td>-5.343050</td>\n",
       "      <td>-5.588239</td>\n",
       "      <td>-4.849472</td>\n",
       "      <td>-4.663667</td>\n",
       "      <td>-5.137931</td>\n",
       "      <td>-4.931800</td>\n",
       "      <td>-4.941493</td>\n",
       "      <td>-4.775093</td>\n",
       "      <td>-5.193229</td>\n",
       "      <td>-5.458596</td>\n",
       "      <td>-4.871698</td>\n",
       "      <td>-4.662868</td>\n",
       "      <td>-5.011135</td>\n",
       "      <td>-5.166664</td>\n",
       "      <td>-4.808</td>\n",
       "      <td>-4.833522</td>\n",
       "    </tr>\n",
       "    <tr>\n",
       "      <th>268</th>\n",
       "      <td>-5.157030</td>\n",
       "      <td>-5.593155</td>\n",
       "      <td>-4.901261</td>\n",
       "      <td>-5.119306</td>\n",
       "      <td>-5.908757</td>\n",
       "      <td>-5.624952</td>\n",
       "      <td>-5.672353</td>\n",
       "      <td>-5.672681</td>\n",
       "      <td>-5.440757</td>\n",
       "      <td>-5.688264</td>\n",
       "      <td>-5.494064</td>\n",
       "      <td>-5.640029</td>\n",
       "      <td>-4.736830</td>\n",
       "      <td>-5.302046</td>\n",
       "      <td>-5.351270</td>\n",
       "      <td>-5.189</td>\n",
       "      <td>-5.234597</td>\n",
       "    </tr>\n",
       "    <tr>\n",
       "      <th>269</th>\n",
       "      <td>-5.235996</td>\n",
       "      <td>-5.057087</td>\n",
       "      <td>-5.142637</td>\n",
       "      <td>-5.245434</td>\n",
       "      <td>-4.784398</td>\n",
       "      <td>-5.308624</td>\n",
       "      <td>-4.934321</td>\n",
       "      <td>-4.917437</td>\n",
       "      <td>-4.742096</td>\n",
       "      <td>-4.811804</td>\n",
       "      <td>-4.811503</td>\n",
       "      <td>-4.859504</td>\n",
       "      <td>-4.700732</td>\n",
       "      <td>-4.978535</td>\n",
       "      <td>-5.206163</td>\n",
       "      <td>-5.194</td>\n",
       "      <td>-5.023351</td>\n",
       "    </tr>\n",
       "    <tr>\n",
       "      <th>270</th>\n",
       "      <td>-5.506751</td>\n",
       "      <td>-5.384338</td>\n",
       "      <td>-5.150729</td>\n",
       "      <td>-5.327533</td>\n",
       "      <td>-5.073741</td>\n",
       "      <td>-5.281120</td>\n",
       "      <td>-5.335170</td>\n",
       "      <td>-5.284862</td>\n",
       "      <td>-5.170240</td>\n",
       "      <td>-5.506111</td>\n",
       "      <td>-4.624788</td>\n",
       "      <td>-5.319791</td>\n",
       "      <td>-4.367532</td>\n",
       "      <td>-5.200934</td>\n",
       "      <td>-4.976749</td>\n",
       "      <td>-4.826</td>\n",
       "      <td>-4.770038</td>\n",
       "    </tr>\n",
       "  </tbody>\n",
       "</table>\n",
       "<p>271 rows × 17 columns</p>\n",
       "</div>"
      ],
      "text/plain": [
       "       XGB_fp    SVM_fp     GB_fp     RF_fp  XGB_rdkit2d  SVM_rdkit2d  \\\n",
       "0   -5.643911 -5.961470 -5.483297 -5.538459    -6.046221    -5.898155   \n",
       "1   -4.886450 -5.075859 -4.960182 -5.077284    -5.079074    -5.023228   \n",
       "2   -4.976178 -5.074016 -4.835692 -5.037226    -4.904591    -5.303246   \n",
       "3   -4.751775 -4.777076 -4.647408 -4.848243    -4.554111    -5.084939   \n",
       "4   -6.015895 -5.779423 -6.181006 -5.652338    -5.540268    -5.542982   \n",
       "..        ...       ...       ...       ...          ...          ...   \n",
       "266 -6.300303 -6.354416 -6.092220 -5.641723    -5.458561    -5.226032   \n",
       "267 -5.138891 -5.343050 -5.588239 -4.849472    -4.663667    -5.137931   \n",
       "268 -5.157030 -5.593155 -4.901261 -5.119306    -5.908757    -5.624952   \n",
       "269 -5.235996 -5.057087 -5.142637 -5.245434    -4.784398    -5.308624   \n",
       "270 -5.506751 -5.384338 -5.150729 -5.327533    -5.073741    -5.281120   \n",
       "\n",
       "     GB_rdkit2d  RF_rdkit2d  XGB_combined  SVM_combined  GB_combined  \\\n",
       "0     -6.283740   -5.811782     -6.051782     -6.142560    -5.732677   \n",
       "1     -4.783831   -5.026886     -5.060615     -4.800673    -5.177343   \n",
       "2     -4.719715   -4.850136     -5.279327     -5.102093    -5.616375   \n",
       "3     -4.462949   -4.496145     -4.583272     -4.689909    -4.637891   \n",
       "4     -5.384678   -5.646651     -5.809102     -6.185668    -5.298511   \n",
       "..          ...         ...           ...           ...          ...   \n",
       "266   -5.532097   -5.725168     -5.698493     -6.082107    -5.892829   \n",
       "267   -4.931800   -4.941493     -4.775093     -5.193229    -5.458596   \n",
       "268   -5.672353   -5.672681     -5.440757     -5.688264    -5.494064   \n",
       "269   -4.934321   -4.917437     -4.742096     -4.811804    -4.811503   \n",
       "270   -5.335170   -5.284862     -5.170240     -5.506111    -4.624788   \n",
       "\n",
       "     RF_combined  ground_truth  CombinedNet     DMPNN  ADMETlab2  ADMETlab3  \n",
       "0      -5.881886     -4.452225    -5.658178 -6.070380     -5.484  -5.246999  \n",
       "1      -4.970772     -4.040959    -4.853692 -4.805622     -5.051  -4.981073  \n",
       "2      -4.855914     -4.795880    -5.287908 -5.190197     -4.865  -5.153186  \n",
       "3      -4.499963     -4.403403    -4.624857 -5.191446     -4.759  -4.802940  \n",
       "4      -5.611605     -6.221849    -6.113716 -5.984838     -5.558  -5.394623  \n",
       "..           ...           ...          ...       ...        ...        ...  \n",
       "266    -5.671041     -5.721849    -6.125656 -6.000243     -5.774  -5.811849  \n",
       "267    -4.871698     -4.662868    -5.011135 -5.166664     -4.808  -4.833522  \n",
       "268    -5.640029     -4.736830    -5.302046 -5.351270     -5.189  -5.234597  \n",
       "269    -4.859504     -4.700732    -4.978535 -5.206163     -5.194  -5.023351  \n",
       "270    -5.319791     -4.367532    -5.200934 -4.976749     -4.826  -4.770038  \n",
       "\n",
       "[271 rows x 17 columns]"
      ]
     },
     "execution_count": 22,
     "metadata": {},
     "output_type": "execute_result"
    }
   ],
   "source": [
    "result"
   ]
  },
  {
   "cell_type": "raw",
   "id": "55aa1e1f",
   "metadata": {
    "ExecuteTime": {
     "end_time": "2024-07-28T15:57:34.292032Z",
     "start_time": "2024-07-28T15:57:34.266307Z"
    }
   },
   "source": [
    "result.to_csv('./external_ml_models_combined_morganbit_rdkit2d_pred.csv', index=False)"
   ]
  },
  {
   "cell_type": "code",
   "execution_count": 23,
   "id": "5c8aedca",
   "metadata": {
    "ExecuteTime": {
     "end_time": "2024-07-29T15:29:32.475187Z",
     "start_time": "2024-07-29T15:29:32.455829Z"
    }
   },
   "outputs": [],
   "source": [
    "from scipy.stats import spearmanr, pearsonr\n",
    "from sklearn.metrics import r2_score, mean_absolute_error, mean_squared_error"
   ]
  },
  {
   "cell_type": "code",
   "execution_count": 24,
   "id": "03002077",
   "metadata": {
    "ExecuteTime": {
     "end_time": "2024-07-29T15:29:33.671647Z",
     "start_time": "2024-07-29T15:29:33.659337Z"
    }
   },
   "outputs": [],
   "source": [
    "metrics_df = pd.DataFrame(index=['r2_score', 'MAE', 'RMSE','spearmanr','pearsonr'],columns=['XGB_fp',\n",
    "                                                                                           'SVM_fp',\n",
    "                                                                                            'GB_fp',\n",
    "                                                                                            'RF_fp',\n",
    "                                                                                            'XGB_rdkit2d',\n",
    "                                                                                            'SVM_rdkit2d',\n",
    "                                                                                            'GB_rdkit2d',\n",
    "                                                                                            'RF_rdkit2d',\n",
    "                                                                                            'XGB_combined',\n",
    "                                                                                            'SVM_combined',\n",
    "                                                                                            'GB_combined',\n",
    "                                                                                            'RF_combined',\n",
    "                                                                                            'CombinedNet',\n",
    "                                                                                            'DMPNN',\n",
    "                                                                                            'ADMETlab 2.0',\n",
    "                                                                                            'ADMETlab 3.0'])"
   ]
  },
  {
   "cell_type": "code",
   "execution_count": 25,
   "id": "2e617d06",
   "metadata": {
    "ExecuteTime": {
     "end_time": "2024-07-29T15:29:34.666943Z",
     "start_time": "2024-07-29T15:29:34.649794Z"
    }
   },
   "outputs": [],
   "source": [
    "metrics_functions = {\n",
    "    'r2_score': r2_score,\n",
    "    'MAE': mean_absolute_error,\n",
    "    'RMSE': lambda y_true, y_pred: np.sqrt(mean_squared_error(y_true, y_pred)),\n",
    "    'spearmanr': spearmanr,\n",
    "    'pearsonr': pearsonr\n",
    "}"
   ]
  },
  {
   "cell_type": "code",
   "execution_count": 26,
   "id": "29693ea0",
   "metadata": {
    "ExecuteTime": {
     "end_time": "2024-07-29T15:29:35.896898Z",
     "start_time": "2024-07-29T15:29:35.887568Z"
    }
   },
   "outputs": [],
   "source": [
    "final_df = result.copy()"
   ]
  },
  {
   "cell_type": "code",
   "execution_count": 27,
   "id": "b6955e2e",
   "metadata": {
    "ExecuteTime": {
     "end_time": "2024-07-29T15:29:38.840226Z",
     "start_time": "2024-07-29T15:29:38.792453Z"
    }
   },
   "outputs": [],
   "source": [
    "for metric_name, metric_function in metrics_functions.items():\n",
    "    if metric_name == 'spearmanr' or metric_name == 'pearsonr':\n",
    "        xgb = metric_function(final_df['ground_truth'], final_df['XGB_fp'])[0]\n",
    "        svm = metric_function(final_df['ground_truth'], final_df['SVM_fp'])[0]\n",
    "        gb = metric_function(final_df['ground_truth'], final_df['GB_fp'])[0]\n",
    "        rf = metric_function(final_df['ground_truth'], final_df['RF_fp'])[0]\n",
    "        xgb_2d = metric_function(final_df['ground_truth'], final_df['XGB_rdkit2d'])[0]\n",
    "        svm_2d = metric_function(final_df['ground_truth'], final_df['SVM_rdkit2d'])[0]\n",
    "        gb_2d = metric_function(final_df['ground_truth'], final_df['GB_rdkit2d'])[0]\n",
    "        rf_2d = metric_function(final_df['ground_truth'], final_df['RF_rdkit2d'])[0]\n",
    "        xgb_com = metric_function(final_df['ground_truth'], final_df['XGB_combined'])[0]\n",
    "        svm_com = metric_function(final_df['ground_truth'], final_df['SVM_combined'])[0]\n",
    "        gb_com = metric_function(final_df['ground_truth'], final_df['GB_combined'])[0]\n",
    "        rf_com = metric_function(final_df['ground_truth'], final_df['RF_combined'])[0]\n",
    "        combinednet = metric_function(final_df['ground_truth'], final_df['CombinedNet'])[0]\n",
    "        dmpnn = metric_function(final_df['ground_truth'], final_df['DMPNN'])[0]\n",
    "        lab2 = metric_function(final_df['ground_truth'], final_df['ADMETlab2'])[0]\n",
    "        lab3 = metric_function(final_df['ground_truth'], final_df['ADMETlab3'])[0]\n",
    "        metrics_df.loc[metric_name, 'XGB_fp',] = xgb\n",
    "        metrics_df.loc[metric_name, 'SVM_fp',] = svm\n",
    "        metrics_df.loc[metric_name, 'GB_fp',] = gb\n",
    "        metrics_df.loc[metric_name, 'RF_fp',] = rf\n",
    "        metrics_df.loc[metric_name, 'XGB_rdkit2d',] = xgb_2d\n",
    "        metrics_df.loc[metric_name, 'SVM_rdkit2d',] = svm_2d\n",
    "        metrics_df.loc[metric_name, 'GB_rdkit2d',] = gb_2d\n",
    "        metrics_df.loc[metric_name, 'RF_rdkit2d',] = rf_2d\n",
    "        metrics_df.loc[metric_name, 'XGB_combined',] = xgb_com\n",
    "        metrics_df.loc[metric_name, 'SVM_combined',] = svm_com\n",
    "        metrics_df.loc[metric_name, 'GB_combined',] = gb_com\n",
    "        metrics_df.loc[metric_name, 'RF_combined',] = rf_com\n",
    "        metrics_df.loc[metric_name, 'CombinedNet',] = combinednet\n",
    "        metrics_df.loc[metric_name, 'DMPNN',] = dmpnn\n",
    "        metrics_df.loc[metric_name, 'ADMETlab 2.0',] = lab2\n",
    "        metrics_df.loc[metric_name, 'ADMETlab 3.0'] = lab3\n",
    "    else:        \n",
    "        xgb = metric_function(final_df['ground_truth'], final_df['XGB_fp'])\n",
    "        svm = metric_function(final_df['ground_truth'], final_df['SVM_fp'])\n",
    "        gb = metric_function(final_df['ground_truth'], final_df['GB_fp'])\n",
    "        rf = metric_function(final_df['ground_truth'], final_df['RF_fp'])\n",
    "        xgb_2d = metric_function(final_df['ground_truth'], final_df['XGB_rdkit2d'])\n",
    "        svm_2d = metric_function(final_df['ground_truth'], final_df['SVM_rdkit2d'])\n",
    "        gb_2d = metric_function(final_df['ground_truth'], final_df['GB_rdkit2d'])\n",
    "        rf_2d = metric_function(final_df['ground_truth'], final_df['RF_rdkit2d'])\n",
    "        xgb_com = metric_function(final_df['ground_truth'], final_df['XGB_combined'])\n",
    "        svm_com = metric_function(final_df['ground_truth'], final_df['SVM_combined'])\n",
    "        gb_com = metric_function(final_df['ground_truth'], final_df['GB_combined'])\n",
    "        rf_com = metric_function(final_df['ground_truth'], final_df['RF_combined'])\n",
    "        combinednet = metric_function(final_df['ground_truth'], final_df['CombinedNet'])\n",
    "        dmpnn = metric_function(final_df['ground_truth'], final_df['DMPNN'])\n",
    "        lab2 = metric_function(final_df['ground_truth'], final_df['ADMETlab2'])\n",
    "        lab3 = metric_function(final_df['ground_truth'], final_df['ADMETlab3'])\n",
    "        metrics_df.loc[metric_name, 'XGB_fp',] = xgb\n",
    "        metrics_df.loc[metric_name, 'SVM_fp',] = svm\n",
    "        metrics_df.loc[metric_name, 'GB_fp',] = gb\n",
    "        metrics_df.loc[metric_name, 'RF_fp',] = rf\n",
    "        metrics_df.loc[metric_name, 'XGB_rdkit2d',] = xgb_2d\n",
    "        metrics_df.loc[metric_name, 'SVM_rdkit2d',] = svm_2d\n",
    "        metrics_df.loc[metric_name, 'GB_rdkit2d',] = gb_2d\n",
    "        metrics_df.loc[metric_name, 'RF_rdkit2d',] = rf_2d\n",
    "        metrics_df.loc[metric_name, 'XGB_combined',] = xgb_com\n",
    "        metrics_df.loc[metric_name, 'SVM_combined',] = svm_com\n",
    "        metrics_df.loc[metric_name, 'GB_combined',] = gb_com\n",
    "        metrics_df.loc[metric_name, 'RF_combined',] = rf_com\n",
    "        metrics_df.loc[metric_name, 'CombinedNet',] = combinednet\n",
    "        metrics_df.loc[metric_name, 'DMPNN',] = dmpnn\n",
    "        metrics_df.loc[metric_name, 'ADMETlab 2.0',] = lab2\n",
    "        metrics_df.loc[metric_name, 'ADMETlab 3.0'] = lab3"
   ]
  },
  {
   "cell_type": "code",
   "execution_count": 28,
   "id": "cde579b9",
   "metadata": {
    "ExecuteTime": {
     "end_time": "2024-07-29T15:29:44.199742Z",
     "start_time": "2024-07-29T15:29:44.184818Z"
    }
   },
   "outputs": [
    {
     "data": {
      "text/html": [
       "<div>\n",
       "<style scoped>\n",
       "    .dataframe tbody tr th:only-of-type {\n",
       "        vertical-align: middle;\n",
       "    }\n",
       "\n",
       "    .dataframe tbody tr th {\n",
       "        vertical-align: top;\n",
       "    }\n",
       "\n",
       "    .dataframe thead th {\n",
       "        text-align: right;\n",
       "    }\n",
       "</style>\n",
       "<table border=\"1\" class=\"dataframe\">\n",
       "  <thead>\n",
       "    <tr style=\"text-align: right;\">\n",
       "      <th></th>\n",
       "      <th>r2_score</th>\n",
       "      <th>MAE</th>\n",
       "      <th>RMSE</th>\n",
       "      <th>spearmanr</th>\n",
       "      <th>pearsonr</th>\n",
       "    </tr>\n",
       "  </thead>\n",
       "  <tbody>\n",
       "    <tr>\n",
       "      <th>XGB_fp</th>\n",
       "      <td>0.036543</td>\n",
       "      <td>0.589388</td>\n",
       "      <td>0.75056</td>\n",
       "      <td>0.26906</td>\n",
       "      <td>0.299452</td>\n",
       "    </tr>\n",
       "    <tr>\n",
       "      <th>SVM_fp</th>\n",
       "      <td>-0.084891</td>\n",
       "      <td>0.649711</td>\n",
       "      <td>0.796457</td>\n",
       "      <td>0.22423</td>\n",
       "      <td>0.229006</td>\n",
       "    </tr>\n",
       "    <tr>\n",
       "      <th>GB_fp</th>\n",
       "      <td>-0.073525</td>\n",
       "      <td>0.614953</td>\n",
       "      <td>0.792274</td>\n",
       "      <td>0.212297</td>\n",
       "      <td>0.234742</td>\n",
       "    </tr>\n",
       "    <tr>\n",
       "      <th>RF_fp</th>\n",
       "      <td>0.047326</td>\n",
       "      <td>0.571701</td>\n",
       "      <td>0.746348</td>\n",
       "      <td>0.25927</td>\n",
       "      <td>0.259039</td>\n",
       "    </tr>\n",
       "    <tr>\n",
       "      <th>XGB_rdkit2d</th>\n",
       "      <td>0.045959</td>\n",
       "      <td>0.597044</td>\n",
       "      <td>0.746884</td>\n",
       "      <td>0.24948</td>\n",
       "      <td>0.318681</td>\n",
       "    </tr>\n",
       "    <tr>\n",
       "      <th>SVM_rdkit2d</th>\n",
       "      <td>0.045496</td>\n",
       "      <td>0.632612</td>\n",
       "      <td>0.747065</td>\n",
       "      <td>0.296748</td>\n",
       "      <td>0.320898</td>\n",
       "    </tr>\n",
       "    <tr>\n",
       "      <th>GB_rdkit2d</th>\n",
       "      <td>-0.010655</td>\n",
       "      <td>0.609683</td>\n",
       "      <td>0.768724</td>\n",
       "      <td>0.239053</td>\n",
       "      <td>0.306312</td>\n",
       "    </tr>\n",
       "    <tr>\n",
       "      <th>RF_rdkit2d</th>\n",
       "      <td>0.082082</td>\n",
       "      <td>0.594202</td>\n",
       "      <td>0.732607</td>\n",
       "      <td>0.300797</td>\n",
       "      <td>0.333168</td>\n",
       "    </tr>\n",
       "    <tr>\n",
       "      <th>XGB_combined</th>\n",
       "      <td>0.071125</td>\n",
       "      <td>0.580784</td>\n",
       "      <td>0.736967</td>\n",
       "      <td>0.316483</td>\n",
       "      <td>0.349899</td>\n",
       "    </tr>\n",
       "    <tr>\n",
       "      <th>SVM_combined</th>\n",
       "      <td>-0.010685</td>\n",
       "      <td>0.613777</td>\n",
       "      <td>0.768736</td>\n",
       "      <td>0.302638</td>\n",
       "      <td>0.322607</td>\n",
       "    </tr>\n",
       "    <tr>\n",
       "      <th>GB_combined</th>\n",
       "      <td>0.117235</td>\n",
       "      <td>0.578143</td>\n",
       "      <td>0.718442</td>\n",
       "      <td>0.353332</td>\n",
       "      <td>0.413186</td>\n",
       "    </tr>\n",
       "    <tr>\n",
       "      <th>RF_combined</th>\n",
       "      <td>0.089229</td>\n",
       "      <td>0.589</td>\n",
       "      <td>0.72975</td>\n",
       "      <td>0.311044</td>\n",
       "      <td>0.337337</td>\n",
       "    </tr>\n",
       "    <tr>\n",
       "      <th>CombinedNet</th>\n",
       "      <td>-0.059974</td>\n",
       "      <td>0.633965</td>\n",
       "      <td>0.787258</td>\n",
       "      <td>0.248678</td>\n",
       "      <td>0.249927</td>\n",
       "    </tr>\n",
       "    <tr>\n",
       "      <th>DMPNN</th>\n",
       "      <td>0.091948</td>\n",
       "      <td>0.580949</td>\n",
       "      <td>0.728659</td>\n",
       "      <td>0.311931</td>\n",
       "      <td>0.355092</td>\n",
       "    </tr>\n",
       "    <tr>\n",
       "      <th>ADMETlab 2.0</th>\n",
       "      <td>-0.005349</td>\n",
       "      <td>0.59733</td>\n",
       "      <td>0.766704</td>\n",
       "      <td>0.243653</td>\n",
       "      <td>0.28233</td>\n",
       "    </tr>\n",
       "    <tr>\n",
       "      <th>ADMETlab 3.0</th>\n",
       "      <td>0.017377</td>\n",
       "      <td>0.59906</td>\n",
       "      <td>0.757989</td>\n",
       "      <td>0.258808</td>\n",
       "      <td>0.255324</td>\n",
       "    </tr>\n",
       "  </tbody>\n",
       "</table>\n",
       "</div>"
      ],
      "text/plain": [
       "              r2_score       MAE      RMSE spearmanr  pearsonr\n",
       "XGB_fp        0.036543  0.589388   0.75056   0.26906  0.299452\n",
       "SVM_fp       -0.084891  0.649711  0.796457   0.22423  0.229006\n",
       "GB_fp        -0.073525  0.614953  0.792274  0.212297  0.234742\n",
       "RF_fp         0.047326  0.571701  0.746348   0.25927  0.259039\n",
       "XGB_rdkit2d   0.045959  0.597044  0.746884   0.24948  0.318681\n",
       "SVM_rdkit2d   0.045496  0.632612  0.747065  0.296748  0.320898\n",
       "GB_rdkit2d   -0.010655  0.609683  0.768724  0.239053  0.306312\n",
       "RF_rdkit2d    0.082082  0.594202  0.732607  0.300797  0.333168\n",
       "XGB_combined  0.071125  0.580784  0.736967  0.316483  0.349899\n",
       "SVM_combined -0.010685  0.613777  0.768736  0.302638  0.322607\n",
       "GB_combined   0.117235  0.578143  0.718442  0.353332  0.413186\n",
       "RF_combined   0.089229     0.589   0.72975  0.311044  0.337337\n",
       "CombinedNet  -0.059974  0.633965  0.787258  0.248678  0.249927\n",
       "DMPNN         0.091948  0.580949  0.728659  0.311931  0.355092\n",
       "ADMETlab 2.0 -0.005349   0.59733  0.766704  0.243653   0.28233\n",
       "ADMETlab 3.0  0.017377   0.59906  0.757989  0.258808  0.255324"
      ]
     },
     "execution_count": 28,
     "metadata": {},
     "output_type": "execute_result"
    }
   ],
   "source": [
    "metrics_df.T"
   ]
  },
  {
   "cell_type": "code",
   "execution_count": null,
   "id": "d98b61fe",
   "metadata": {},
   "outputs": [],
   "source": []
  }
 ],
 "metadata": {
  "kernelspec": {
   "display_name": "Python 3 (ipykernel)",
   "language": "python",
   "name": "python3"
  },
  "language_info": {
   "codemirror_mode": {
    "name": "ipython",
    "version": 3
   },
   "file_extension": ".py",
   "mimetype": "text/x-python",
   "name": "python",
   "nbconvert_exporter": "python",
   "pygments_lexer": "ipython3",
   "version": "3.7.13"
  }
 },
 "nbformat": 4,
 "nbformat_minor": 5
}
